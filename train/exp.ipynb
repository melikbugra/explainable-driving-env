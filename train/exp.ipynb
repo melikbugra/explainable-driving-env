{
 "cells": [
  {
   "cell_type": "code",
   "execution_count": 5,
   "metadata": {},
   "outputs": [
    {
     "name": "stderr",
     "output_type": "stream",
     "text": [
      "You provided an OpenAI Gym environment. We strongly recommend transitioning to Gymnasium environments. Stable-Baselines3 is automatically wrapping your environments in a compatibility layer, which could potentially cause issues.\n"
     ]
    },
    {
     "name": "stdout",
     "output_type": "stream",
     "text": [
      "Using cuda device\n",
      "-----------------------------\n",
      "| time/              |      |\n",
      "|    fps             | 29   |\n",
      "|    iterations      | 1    |\n",
      "|    time_elapsed    | 69   |\n",
      "|    total_timesteps | 2048 |\n",
      "-----------------------------\n"
     ]
    },
    {
     "name": "stderr",
     "output_type": "stream",
     "text": [
      "Evaluation environment is not wrapped with a ``Monitor`` wrapper. This may result in reporting modified episode lengths and rewards, if other wrappers happen to modify these. Consider wrapping environment first with ``Monitor`` wrapper.\n"
     ]
    },
    {
     "name": "stdout",
     "output_type": "stream",
     "text": [
      "Mean reward: -2.500618118152488, Std reward: 0.0\n"
     ]
    },
    {
     "ename": "IndexError",
     "evalue": "tuple index out of range",
     "output_type": "error",
     "traceback": [
      "\u001b[0;31m---------------------------------------------------------------------------\u001b[0m",
      "\u001b[0;31mIndexError\u001b[0m                                Traceback (most recent call last)",
      "\u001b[1;32m/home/melikozcelik/rl-projects/gym_envs/explainable-driving-env/train/exp.ipynb Cell 1\u001b[0m line \u001b[0;36m4\n\u001b[1;32m     <a href='vscode-notebook-cell://wsl%2Bubuntu-22.04/home/melikozcelik/rl-projects/gym_envs/explainable-driving-env/train/exp.ipynb#W0sdnNjb2RlLXJlbW90ZQ%3D%3D?line=40'>41</a>\u001b[0m \u001b[39m# Example of getting an explanation\u001b[39;00m\n\u001b[1;32m     <a href='vscode-notebook-cell://wsl%2Bubuntu-22.04/home/melikozcelik/rl-projects/gym_envs/explainable-driving-env/train/exp.ipynb#W0sdnNjb2RlLXJlbW90ZQ%3D%3D?line=41'>42</a>\u001b[0m state \u001b[39m=\u001b[39m environment\u001b[39m.\u001b[39mreset()\n\u001b[0;32m---> <a href='vscode-notebook-cell://wsl%2Bubuntu-22.04/home/melikozcelik/rl-projects/gym_envs/explainable-driving-env/train/exp.ipynb#W0sdnNjb2RlLXJlbW90ZQ%3D%3D?line=42'>43</a>\u001b[0m explanation \u001b[39m=\u001b[39m agent\u001b[39m.\u001b[39;49mexplain_action(state)\n\u001b[1;32m     <a href='vscode-notebook-cell://wsl%2Bubuntu-22.04/home/melikozcelik/rl-projects/gym_envs/explainable-driving-env/train/exp.ipynb#W0sdnNjb2RlLXJlbW90ZQ%3D%3D?line=43'>44</a>\u001b[0m \u001b[39mprint\u001b[39m(\u001b[39m\"\u001b[39m\u001b[39mSHAP Explanation:\u001b[39m\u001b[39m\"\u001b[39m, explanation)\n",
      "\u001b[1;32m/home/melikozcelik/rl-projects/gym_envs/explainable-driving-env/train/exp.ipynb Cell 1\u001b[0m line \u001b[0;36m2\n\u001b[1;32m     <a href='vscode-notebook-cell://wsl%2Bubuntu-22.04/home/melikozcelik/rl-projects/gym_envs/explainable-driving-env/train/exp.ipynb#W0sdnNjb2RlLXJlbW90ZQ%3D%3D?line=26'>27</a>\u001b[0m \u001b[39mdef\u001b[39;00m \u001b[39mexplain_action\u001b[39m(\u001b[39mself\u001b[39m, state):\n\u001b[1;32m     <a href='vscode-notebook-cell://wsl%2Bubuntu-22.04/home/melikozcelik/rl-projects/gym_envs/explainable-driving-env/train/exp.ipynb#W0sdnNjb2RlLXJlbW90ZQ%3D%3D?line=27'>28</a>\u001b[0m     \u001b[39m# Generate SHAP values for the given state\u001b[39;00m\n\u001b[0;32m---> <a href='vscode-notebook-cell://wsl%2Bubuntu-22.04/home/melikozcelik/rl-projects/gym_envs/explainable-driving-env/train/exp.ipynb#W0sdnNjb2RlLXJlbW90ZQ%3D%3D?line=28'>29</a>\u001b[0m     shap_values \u001b[39m=\u001b[39m \u001b[39mself\u001b[39;49m\u001b[39m.\u001b[39;49mexplainer\u001b[39m.\u001b[39;49mshap_values(state)\n\u001b[1;32m     <a href='vscode-notebook-cell://wsl%2Bubuntu-22.04/home/melikozcelik/rl-projects/gym_envs/explainable-driving-env/train/exp.ipynb#W0sdnNjb2RlLXJlbW90ZQ%3D%3D?line=29'>30</a>\u001b[0m     \u001b[39mreturn\u001b[39;00m shap_values\n",
      "File \u001b[0;32m~/.pyenv/versions/3.9.16/envs/rl-39/lib/python3.9/site-packages/shap/explainers/_permutation.py:213\u001b[0m, in \u001b[0;36mPermutationExplainer.shap_values\u001b[0;34m(self, X, npermutations, main_effects, error_bounds, batch_evals, silent)\u001b[0m\n\u001b[1;32m    188\u001b[0m \u001b[39m\u001b[39m\u001b[39m\"\"\" Legacy interface to estimate the SHAP values for a set of samples.\u001b[39;00m\n\u001b[1;32m    189\u001b[0m \n\u001b[1;32m    190\u001b[0m \u001b[39mParameters\u001b[39;00m\n\u001b[0;32m   (...)\u001b[0m\n\u001b[1;32m    209\u001b[0m \u001b[39m    of such matrices, one for each output.\u001b[39;00m\n\u001b[1;32m    210\u001b[0m \u001b[39m\"\"\"\u001b[39;00m\n\u001b[1;32m    211\u001b[0m warnings\u001b[39m.\u001b[39mwarn(\u001b[39m\"\u001b[39m\u001b[39mshap_values() is deprecated; use __call__().\u001b[39m\u001b[39m\"\u001b[39m, \u001b[39mDeprecationWarning\u001b[39;00m)\n\u001b[0;32m--> 213\u001b[0m explanation \u001b[39m=\u001b[39m \u001b[39mself\u001b[39m(X, max_evals\u001b[39m=\u001b[39mnpermutations \u001b[39m*\u001b[39m X\u001b[39m.\u001b[39;49mshape[\u001b[39m1\u001b[39;49m], main_effects\u001b[39m=\u001b[39mmain_effects)\n\u001b[1;32m    214\u001b[0m \u001b[39mreturn\u001b[39;00m explanation\u001b[39m.\u001b[39mvalues\n",
      "\u001b[0;31mIndexError\u001b[0m: tuple index out of range"
     ]
    }
   ],
   "source": [
    "from stable_baselines3 import PPO\n",
    "from stable_baselines3.common.env_util import make_vec_env\n",
    "from stable_baselines3.common.evaluation import evaluate_policy\n",
    "import shap  # Assuming SHAP is compatible with your model\n",
    "from x_driving_env.envs.env import XDrivingEnv\n",
    "class ExplainableRLAgent:\n",
    "    def __init__(self, environment):\n",
    "        self.env = environment\n",
    "        self.model = self.build_model()\n",
    "        self.explainer = None  # Initialize SHAP explainer later\n",
    "\n",
    "    def build_model(self):\n",
    "        # Create a vectorized environment\n",
    "        vec_env = make_vec_env(lambda: self.env, n_envs=1)\n",
    "\n",
    "        # Set up the DQN model\n",
    "        model = PPO(\"MlpPolicy\", vec_env, verbose=1)\n",
    "        return model\n",
    "\n",
    "    def train(self, total_timesteps):\n",
    "        self.model.learn(total_timesteps=total_timesteps)\n",
    "\n",
    "        # After training, you can initialize the SHAP explainer\n",
    "        # Note: This is a placeholder, as setting up SHAP with DQN might require additional steps\n",
    "        self.explainer = shap.Explainer(self.model.predict, self.env.observation_space)\n",
    "\n",
    "    def explain_action(self, state):\n",
    "        # Generate SHAP values for the given state\n",
    "        shap_values = self.explainer.shap_values(state)\n",
    "        return shap_values\n",
    "\n",
    "# Usage\n",
    "environment = XDrivingEnv(bumps_activated=True)  # Initialize your environment\n",
    "agent = ExplainableRLAgent(environment)\n",
    "agent.train(total_timesteps=10)\n",
    "\n",
    "# Evaluate the policy\n",
    "mean_reward, std_reward = evaluate_policy(agent.model, agent.env, n_eval_episodes=10)\n",
    "print(f\"Mean reward: {mean_reward}, Std reward: {std_reward}\")\n",
    "\n",
    "# Example of getting an explanation\n",
    "state = environment.reset()\n",
    "explanation = agent.explain_action(state)\n",
    "print(\"SHAP Explanation:\", explanation)"
   ]
  },
  {
   "cell_type": "code",
   "execution_count": null,
   "metadata": {},
   "outputs": [],
   "source": []
  },
  {
   "cell_type": "code",
   "execution_count": null,
   "metadata": {},
   "outputs": [],
   "source": []
  }
 ],
 "metadata": {
  "kernelspec": {
   "display_name": "rl-39",
   "language": "python",
   "name": "python3"
  },
  "language_info": {
   "codemirror_mode": {
    "name": "ipython",
    "version": 3
   },
   "file_extension": ".py",
   "mimetype": "text/x-python",
   "name": "python",
   "nbconvert_exporter": "python",
   "pygments_lexer": "ipython3",
   "version": "3.9.16"
  }
 },
 "nbformat": 4,
 "nbformat_minor": 2
}
